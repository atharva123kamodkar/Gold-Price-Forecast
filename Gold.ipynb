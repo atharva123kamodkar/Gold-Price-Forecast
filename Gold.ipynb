{
 "cells": [
  {
   "cell_type": "code",
   "execution_count": 2,
   "metadata": {},
   "outputs": [],
   "source": [
    "import pandas as pd\n",
    "from datetime import datetime\n",
    "import matplotlib.pyplot as plt\n",
    "%matplotlib inline\n"
   ]
  },
  {
   "cell_type": "code",
   "execution_count": 3,
   "metadata": {},
   "outputs": [
    {
     "data": {
      "text/html": [
       "<div>\n",
       "<style scoped>\n",
       "    .dataframe tbody tr th:only-of-type {\n",
       "        vertical-align: middle;\n",
       "    }\n",
       "\n",
       "    .dataframe tbody tr th {\n",
       "        vertical-align: top;\n",
       "    }\n",
       "\n",
       "    .dataframe thead th {\n",
       "        text-align: right;\n",
       "    }\n",
       "</style>\n",
       "<table border=\"1\" class=\"dataframe\">\n",
       "  <thead>\n",
       "    <tr style=\"text-align: right;\">\n",
       "      <th></th>\n",
       "      <th>date</th>\n",
       "      <th>price</th>\n",
       "    </tr>\n",
       "  </thead>\n",
       "  <tbody>\n",
       "    <tr>\n",
       "      <th>0</th>\n",
       "      <td>2016-01-01</td>\n",
       "      <td>2252.600000</td>\n",
       "    </tr>\n",
       "    <tr>\n",
       "      <th>1</th>\n",
       "      <td>2016-01-02</td>\n",
       "      <td>2454.500000</td>\n",
       "    </tr>\n",
       "    <tr>\n",
       "      <th>2</th>\n",
       "      <td>2016-01-03</td>\n",
       "      <td>2708.100000</td>\n",
       "    </tr>\n",
       "    <tr>\n",
       "      <th>3</th>\n",
       "      <td>2016-01-04</td>\n",
       "      <td>2577.800000</td>\n",
       "    </tr>\n",
       "    <tr>\n",
       "      <th>4</th>\n",
       "      <td>2016-01-05</td>\n",
       "      <td>2597.750000</td>\n",
       "    </tr>\n",
       "    <tr>\n",
       "      <th>...</th>\n",
       "      <td>...</td>\n",
       "      <td>...</td>\n",
       "    </tr>\n",
       "    <tr>\n",
       "      <th>2712</th>\n",
       "      <td>2024-02-23</td>\n",
       "      <td>5498.000000</td>\n",
       "    </tr>\n",
       "    <tr>\n",
       "      <th>2713</th>\n",
       "      <td>2024-02-26</td>\n",
       "      <td>5498.000000</td>\n",
       "    </tr>\n",
       "    <tr>\n",
       "      <th>2714</th>\n",
       "      <td>2024-02-27</td>\n",
       "      <td>5514.950195</td>\n",
       "    </tr>\n",
       "    <tr>\n",
       "      <th>2715</th>\n",
       "      <td>2024-02-28</td>\n",
       "      <td>5514.899902</td>\n",
       "    </tr>\n",
       "    <tr>\n",
       "      <th>2716</th>\n",
       "      <td>2024-02-29</td>\n",
       "      <td>5527.299805</td>\n",
       "    </tr>\n",
       "  </tbody>\n",
       "</table>\n",
       "<p>2717 rows × 2 columns</p>\n",
       "</div>"
      ],
      "text/plain": [
       "            date        price\n",
       "0     2016-01-01  2252.600000\n",
       "1     2016-01-02  2454.500000\n",
       "2     2016-01-03  2708.100000\n",
       "3     2016-01-04  2577.800000\n",
       "4     2016-01-05  2597.750000\n",
       "...          ...          ...\n",
       "2712  2024-02-23  5498.000000\n",
       "2713  2024-02-26  5498.000000\n",
       "2714  2024-02-27  5514.950195\n",
       "2715  2024-02-28  5514.899902\n",
       "2716  2024-02-29  5527.299805\n",
       "\n",
       "[2717 rows x 2 columns]"
      ]
     },
     "execution_count": 3,
     "metadata": {},
     "output_type": "execute_result"
    }
   ],
   "source": [
    "df=pd.read_csv(\"C:\\DSProject\\goldfinal\\gold2024.csv\")\n",
    "df"
   ]
  },
  {
   "cell_type": "markdown",
   "metadata": {},
   "source": [
    "EDA"
   ]
  },
  {
   "cell_type": "code",
   "execution_count": 4,
   "metadata": {},
   "outputs": [
    {
     "data": {
      "text/html": [
       "<div>\n",
       "<style scoped>\n",
       "    .dataframe tbody tr th:only-of-type {\n",
       "        vertical-align: middle;\n",
       "    }\n",
       "\n",
       "    .dataframe tbody tr th {\n",
       "        vertical-align: top;\n",
       "    }\n",
       "\n",
       "    .dataframe thead th {\n",
       "        text-align: right;\n",
       "    }\n",
       "</style>\n",
       "<table border=\"1\" class=\"dataframe\">\n",
       "  <thead>\n",
       "    <tr style=\"text-align: right;\">\n",
       "      <th></th>\n",
       "      <th>price</th>\n",
       "    </tr>\n",
       "  </thead>\n",
       "  <tbody>\n",
       "    <tr>\n",
       "      <th>count</th>\n",
       "      <td>2717.000000</td>\n",
       "    </tr>\n",
       "    <tr>\n",
       "      <th>mean</th>\n",
       "      <td>3614.946219</td>\n",
       "    </tr>\n",
       "    <tr>\n",
       "      <th>std</th>\n",
       "      <td>944.869865</td>\n",
       "    </tr>\n",
       "    <tr>\n",
       "      <th>min</th>\n",
       "      <td>2252.600000</td>\n",
       "    </tr>\n",
       "    <tr>\n",
       "      <th>25%</th>\n",
       "      <td>2738.200000</td>\n",
       "    </tr>\n",
       "    <tr>\n",
       "      <th>50%</th>\n",
       "      <td>3385.000000</td>\n",
       "    </tr>\n",
       "    <tr>\n",
       "      <th>75%</th>\n",
       "      <td>4404.200000</td>\n",
       "    </tr>\n",
       "    <tr>\n",
       "      <th>max</th>\n",
       "      <td>5833.000000</td>\n",
       "    </tr>\n",
       "  </tbody>\n",
       "</table>\n",
       "</div>"
      ],
      "text/plain": [
       "             price\n",
       "count  2717.000000\n",
       "mean   3614.946219\n",
       "std     944.869865\n",
       "min    2252.600000\n",
       "25%    2738.200000\n",
       "50%    3385.000000\n",
       "75%    4404.200000\n",
       "max    5833.000000"
      ]
     },
     "execution_count": 4,
     "metadata": {},
     "output_type": "execute_result"
    }
   ],
   "source": [
    "df.describe()"
   ]
  },
  {
   "cell_type": "code",
   "execution_count": 5,
   "metadata": {},
   "outputs": [
    {
     "data": {
      "text/plain": [
       "date     0\n",
       "price    0\n",
       "dtype: int64"
      ]
     },
     "execution_count": 5,
     "metadata": {},
     "output_type": "execute_result"
    }
   ],
   "source": [
    "df.isna().sum()"
   ]
  },
  {
   "cell_type": "code",
   "execution_count": 6,
   "metadata": {},
   "outputs": [
    {
     "data": {
      "text/plain": [
       "date     0\n",
       "price    0\n",
       "dtype: int64"
      ]
     },
     "execution_count": 6,
     "metadata": {},
     "output_type": "execute_result"
    }
   ],
   "source": [
    "df.isnull().sum()"
   ]
  },
  {
   "cell_type": "code",
   "execution_count": 7,
   "metadata": {},
   "outputs": [
    {
     "name": "stdout",
     "output_type": "stream",
     "text": [
      "<class 'pandas.core.frame.DataFrame'>\n",
      "RangeIndex: 2717 entries, 0 to 2716\n",
      "Data columns (total 2 columns):\n",
      " #   Column  Non-Null Count  Dtype  \n",
      "---  ------  --------------  -----  \n",
      " 0   date    2717 non-null   object \n",
      " 1   price   2717 non-null   float64\n",
      "dtypes: float64(1), object(1)\n",
      "memory usage: 42.6+ KB\n"
     ]
    }
   ],
   "source": [
    "df.info()"
   ]
  },
  {
   "cell_type": "code",
   "execution_count": 8,
   "metadata": {},
   "outputs": [],
   "source": [
    "#Convert 'Date' Column to date time index \n",
    "df['date']=pd.to_datetime(df['date'])"
   ]
  },
  {
   "cell_type": "code",
   "execution_count": 9,
   "metadata": {},
   "outputs": [
    {
     "data": {
      "text/plain": [
       "0      2016-01-01\n",
       "1      2016-01-02\n",
       "2      2016-01-03\n",
       "3      2016-01-04\n",
       "4      2016-01-05\n",
       "          ...    \n",
       "2712   2024-02-23\n",
       "2713   2024-02-26\n",
       "2714   2024-02-27\n",
       "2715   2024-02-28\n",
       "2716   2024-02-29\n",
       "Name: date, Length: 2717, dtype: datetime64[ns]"
      ]
     },
     "execution_count": 9,
     "metadata": {},
     "output_type": "execute_result"
    }
   ],
   "source": [
    "df['date']"
   ]
  },
  {
   "cell_type": "code",
   "execution_count": 10,
   "metadata": {},
   "outputs": [
    {
     "data": {
      "text/html": [
       "<div>\n",
       "<style scoped>\n",
       "    .dataframe tbody tr th:only-of-type {\n",
       "        vertical-align: middle;\n",
       "    }\n",
       "\n",
       "    .dataframe tbody tr th {\n",
       "        vertical-align: top;\n",
       "    }\n",
       "\n",
       "    .dataframe thead th {\n",
       "        text-align: right;\n",
       "    }\n",
       "</style>\n",
       "<table border=\"1\" class=\"dataframe\">\n",
       "  <thead>\n",
       "    <tr style=\"text-align: right;\">\n",
       "      <th></th>\n",
       "      <th>date</th>\n",
       "      <th>price</th>\n",
       "    </tr>\n",
       "  </thead>\n",
       "  <tbody>\n",
       "    <tr>\n",
       "      <th>0</th>\n",
       "      <td>2016-01-01</td>\n",
       "      <td>2252.60</td>\n",
       "    </tr>\n",
       "    <tr>\n",
       "      <th>1</th>\n",
       "      <td>2016-01-02</td>\n",
       "      <td>2454.50</td>\n",
       "    </tr>\n",
       "    <tr>\n",
       "      <th>2</th>\n",
       "      <td>2016-01-03</td>\n",
       "      <td>2708.10</td>\n",
       "    </tr>\n",
       "    <tr>\n",
       "      <th>3</th>\n",
       "      <td>2016-01-04</td>\n",
       "      <td>2577.80</td>\n",
       "    </tr>\n",
       "    <tr>\n",
       "      <th>4</th>\n",
       "      <td>2016-01-05</td>\n",
       "      <td>2597.75</td>\n",
       "    </tr>\n",
       "  </tbody>\n",
       "</table>\n",
       "</div>"
      ],
      "text/plain": [
       "        date    price\n",
       "0 2016-01-01  2252.60\n",
       "1 2016-01-02  2454.50\n",
       "2 2016-01-03  2708.10\n",
       "3 2016-01-04  2577.80\n",
       "4 2016-01-05  2597.75"
      ]
     },
     "execution_count": 10,
     "metadata": {},
     "output_type": "execute_result"
    }
   ],
   "source": [
    "df.head()"
   ]
  },
  {
   "cell_type": "code",
   "execution_count": 11,
   "metadata": {},
   "outputs": [],
   "source": [
    "df.set_index('date',inplace=True)"
   ]
  },
  {
   "cell_type": "code",
   "execution_count": 12,
   "metadata": {},
   "outputs": [
    {
     "name": "stdout",
     "output_type": "stream",
     "text": [
      "<class 'pandas.core.frame.DataFrame'>\n",
      "DatetimeIndex: 2717 entries, 2016-01-01 to 2024-02-29\n",
      "Data columns (total 1 columns):\n",
      " #   Column  Non-Null Count  Dtype  \n",
      "---  ------  --------------  -----  \n",
      " 0   price   2717 non-null   float64\n",
      "dtypes: float64(1)\n",
      "memory usage: 42.5 KB\n"
     ]
    }
   ],
   "source": [
    "df.info()"
   ]
  },
  {
   "cell_type": "code",
   "execution_count": 13,
   "metadata": {},
   "outputs": [
    {
     "data": {
      "text/plain": [
       "DatetimeIndex(['2016-01-01', '2016-01-02', '2016-01-03', '2016-01-04',\n",
       "               '2016-01-05', '2016-01-06', '2016-01-07', '2016-01-08',\n",
       "               '2016-01-09', '2016-01-10',\n",
       "               ...\n",
       "               '2024-02-16', '2024-02-19', '2024-02-20', '2024-02-21',\n",
       "               '2024-02-22', '2024-02-23', '2024-02-26', '2024-02-27',\n",
       "               '2024-02-28', '2024-02-29'],\n",
       "              dtype='datetime64[ns]', name='date', length=2717, freq=None)"
      ]
     },
     "execution_count": 13,
     "metadata": {},
     "output_type": "execute_result"
    }
   ],
   "source": [
    "df.index"
   ]
  },
  {
   "cell_type": "code",
   "execution_count": 14,
   "metadata": {},
   "outputs": [
    {
     "data": {
      "text/plain": [
       "Text(0, 0.5, 'Price')"
      ]
     },
     "execution_count": 14,
     "metadata": {},
     "output_type": "execute_result"
    },
    {
     "data": {
      "image/png": "[encoded data removed]",
      "text/plain": [
       "<Figure size 1400x700 with 1 Axes>"
      ]
     },
     "metadata": {},
     "output_type": "display_data"
    }
   ],
   "source": [
    "#plot the data\n",
    "plt.figure(figsize=(14,7))\n",
    "plt.plot(df.index,df['price'],color='Gold')\n",
    "plt.xlabel(\"Date\")\n",
    "plt.ylabel(\"Price\")"
   ]
  },
  {
   "cell_type": "markdown",
   "metadata": {},
   "source": [
    "ADF(Augmented Dickey-Fuller)"
   ]
  },
  {
   "cell_type": "code",
   "execution_count": 15,
   "metadata": {},
   "outputs": [],
   "source": [
    "from statsmodels.tsa.stattools import adfuller"
   ]
  },
  {
   "cell_type": "code",
   "execution_count": 16,
   "metadata": {},
   "outputs": [],
   "source": [
    "def adf_test(series):\n",
    "    result=adfuller(series)\n",
    "    print('ADF Statistics:{}'.format(result[0]))\n",
    "    print('p-value:{}'.format(result[1]))\n",
    "    if result[1]<=0.05:\n",
    "        print(\"strong evidence against the null hypothesis,reject the null hypothesis.Data has no unit root and  it is stationary\")\n",
    "    else:\n",
    "        print(\"weak evidence against null hypothesis ,time series has a unit root,indicating it is non-stationary\")"
   ]
  },
  {
   "cell_type": "code",
   "execution_count": 17,
   "metadata": {},
   "outputs": [
    {
     "name": "stdout",
     "output_type": "stream",
     "text": [
      "ADF Statistics:1.4167523040450656\n",
      "p-value:0.9971889318595093\n",
      "weak evidence against null hypothesis ,time series has a unit root,indicating it is non-stationary\n"
     ]
    }
   ],
   "source": [
    "adf_test(df['price'])"
   ]
  },
  {
   "cell_type": "markdown",
   "metadata": {},
   "source": [
    "Augmented Dickey-Fuller test result"
   ]
  },
  {
   "cell_type": "markdown",
   "metadata": {},
   "source": [
    "The Augmented Dickey-Fuller test is used to check if the time series is stationary or not. If the p-value is less than 0.05, we reject the null hypothesis and it the p-value is greater than 0.05 then the time series is stationary.\n",
    "\n",
    "h0=data is not stationary\n",
    "\n",
    "h1=data is stationary\n",
    "\n",
    "Here the p_value is greater than 0.05 so we are accepting null hypothesis,i.e data is not stationary.\n"
   ]
  },
  {
   "cell_type": "markdown",
   "metadata": {},
   "source": [
    "Converting Non stationary to stationary"
   ]
  },
  {
   "cell_type": "markdown",
   "metadata": {},
   "source": [
    "difference between the price values in a DataFrame column and the preceding values."
   ]
  },
  {
   "cell_type": "code",
   "execution_count": 18,
   "metadata": {},
   "outputs": [],
   "source": [
    "#use technique  differencing\n",
    "df_diff=df['price']-df['price'].shift(1)"
   ]
  },
  {
   "cell_type": "code",
   "execution_count": 19,
   "metadata": {},
   "outputs": [
    {
     "data": {
      "text/plain": [
       "date\n",
       "2016-01-01           NaN\n",
       "2016-01-02    201.900000\n",
       "2016-01-03    253.600000\n",
       "2016-01-04   -130.300000\n",
       "2016-01-05     19.950000\n",
       "                 ...    \n",
       "2024-02-23      0.000000\n",
       "2024-02-26      0.000000\n",
       "2024-02-27     16.950195\n",
       "2024-02-28     -0.050293\n",
       "2024-02-29     12.399902\n",
       "Name: price, Length: 2717, dtype: float64"
      ]
     },
     "execution_count": 19,
     "metadata": {},
     "output_type": "execute_result"
    }
   ],
   "source": [
    "df_diff"
   ]
  },
  {
   "cell_type": "code",
   "execution_count": 20,
   "metadata": {},
   "outputs": [],
   "source": [
    "df_diff.dropna(inplace=True)"
   ]
  },
  {
   "cell_type": "code",
   "execution_count": 21,
   "metadata": {},
   "outputs": [
    {
     "data": {
      "text/plain": [
       "date\n",
       "2016-01-02    201.900000\n",
       "2016-01-03    253.600000\n",
       "2016-01-04   -130.300000\n",
       "2016-01-05     19.950000\n",
       "2016-01-06     19.950000\n",
       "                 ...    \n",
       "2024-02-23      0.000000\n",
       "2024-02-26      0.000000\n",
       "2024-02-27     16.950195\n",
       "2024-02-28     -0.050293\n",
       "2024-02-29     12.399902\n",
       "Name: price, Length: 2716, dtype: float64"
      ]
     },
     "execution_count": 21,
     "metadata": {},
     "output_type": "execute_result"
    }
   ],
   "source": [
    "df_diff"
   ]
  },
  {
   "cell_type": "code",
   "execution_count": 22,
   "metadata": {},
   "outputs": [
    {
     "name": "stdout",
     "output_type": "stream",
     "text": [
      "ADF Statistics:-28.386744246882365\n",
      "p-value:0.0\n",
      "strong evidence against the null hypothesis,reject the null hypothesis.Data has no unit root and  it is stationary\n"
     ]
    }
   ],
   "source": [
    "adf_test(df_diff.dropna())"
   ]
  },
  {
   "cell_type": "markdown",
   "metadata": {},
   "source": [
    "we perform Augmented Dickey-Fuller test on this difference data.This is an Stationary Data Because The p-values is less than 0.05 reject the null Hypothesis It is an Stationary Data"
   ]
  },
  {
   "cell_type": "markdown",
   "metadata": {},
   "source": [
    "Seasonality Trend"
   ]
  },
  {
   "cell_type": "code",
   "execution_count": 23,
   "metadata": {},
   "outputs": [
    {
     "data": {
      "image/png": "[encoded data removed]",
      "text/plain": [
       "<Figure size 640x480 with 4 Axes>"
      ]
     },
     "metadata": {},
     "output_type": "display_data"
    }
   ],
   "source": [
    "from statsmodels.tsa.seasonal import seasonal_decompose\n",
    "result = seasonal_decompose(df['price'], model='multiplicative', period=365)\n",
    "result.plot()\n",
    "plt.show()"
   ]
  },
  {
   "cell_type": "code",
   "execution_count": 24,
   "metadata": {},
   "outputs": [
    {
     "data": {
      "text/html": [
       "<div>\n",
       "<style scoped>\n",
       "    .dataframe tbody tr th:only-of-type {\n",
       "        vertical-align: middle;\n",
       "    }\n",
       "\n",
       "    .dataframe tbody tr th {\n",
       "        vertical-align: top;\n",
       "    }\n",
       "\n",
       "    .dataframe thead th {\n",
       "        text-align: right;\n",
       "    }\n",
       "</style>\n",
       "<table border=\"1\" class=\"dataframe\">\n",
       "  <thead>\n",
       "    <tr style=\"text-align: right;\">\n",
       "      <th></th>\n",
       "      <th>price</th>\n",
       "    </tr>\n",
       "    <tr>\n",
       "      <th>date</th>\n",
       "      <th></th>\n",
       "    </tr>\n",
       "  </thead>\n",
       "  <tbody>\n",
       "    <tr>\n",
       "      <th>2016-01-01</th>\n",
       "      <td>2252.600000</td>\n",
       "    </tr>\n",
       "    <tr>\n",
       "      <th>2016-01-02</th>\n",
       "      <td>2454.500000</td>\n",
       "    </tr>\n",
       "    <tr>\n",
       "      <th>2016-01-03</th>\n",
       "      <td>2708.100000</td>\n",
       "    </tr>\n",
       "    <tr>\n",
       "      <th>2016-01-04</th>\n",
       "      <td>2577.800000</td>\n",
       "    </tr>\n",
       "    <tr>\n",
       "      <th>2016-01-05</th>\n",
       "      <td>2597.750000</td>\n",
       "    </tr>\n",
       "    <tr>\n",
       "      <th>...</th>\n",
       "      <td>...</td>\n",
       "    </tr>\n",
       "    <tr>\n",
       "      <th>2024-02-23</th>\n",
       "      <td>5498.000000</td>\n",
       "    </tr>\n",
       "    <tr>\n",
       "      <th>2024-02-26</th>\n",
       "      <td>5498.000000</td>\n",
       "    </tr>\n",
       "    <tr>\n",
       "      <th>2024-02-27</th>\n",
       "      <td>5514.950195</td>\n",
       "    </tr>\n",
       "    <tr>\n",
       "      <th>2024-02-28</th>\n",
       "      <td>5514.899902</td>\n",
       "    </tr>\n",
       "    <tr>\n",
       "      <th>2024-02-29</th>\n",
       "      <td>5527.299805</td>\n",
       "    </tr>\n",
       "  </tbody>\n",
       "</table>\n",
       "<p>2717 rows × 1 columns</p>\n",
       "</div>"
      ],
      "text/plain": [
       "                  price\n",
       "date                   \n",
       "2016-01-01  2252.600000\n",
       "2016-01-02  2454.500000\n",
       "2016-01-03  2708.100000\n",
       "2016-01-04  2577.800000\n",
       "2016-01-05  2597.750000\n",
       "...                 ...\n",
       "2024-02-23  5498.000000\n",
       "2024-02-26  5498.000000\n",
       "2024-02-27  5514.950195\n",
       "2024-02-28  5514.899902\n",
       "2024-02-29  5527.299805\n",
       "\n",
       "[2717 rows x 1 columns]"
      ]
     },
     "execution_count": 24,
     "metadata": {},
     "output_type": "execute_result"
    }
   ],
   "source": [
    "df"
   ]
  },
  {
   "cell_type": "markdown",
   "metadata": {},
   "source": [
    "ACF and PACF Plot"
   ]
  },
  {
   "cell_type": "code",
   "execution_count": 25,
   "metadata": {},
   "outputs": [],
   "source": [
    "from statsmodels.graphics.tsaplots import plot_acf,plot_pacf"
   ]
  },
  {
   "cell_type": "code",
   "execution_count": 26,
   "metadata": {},
   "outputs": [
    {
     "data": {
      "image/png": "[encoded data removed]",
      "text/plain": [
       "<Figure size 640x480 with 1 Axes>"
      ]
     },
     "metadata": {},
     "output_type": "display_data"
    }
   ],
   "source": [
    "acf=plot_acf(df_diff.dropna())"
   ]
  },
  {
   "cell_type": "code",
   "execution_count": 27,
   "metadata": {},
   "outputs": [
    {
     "data": {
      "image/png": "[encoded data removed]",
      "text/plain": [
       "<Figure size 640x480 with 1 Axes>"
      ]
     },
     "metadata": {},
     "output_type": "display_data"
    }
   ],
   "source": [
    "pacf=plot_pacf(df_diff.dropna()) "
   ]
  },
  {
   "cell_type": "code",
   "execution_count": 28,
   "metadata": {},
   "outputs": [
    {
     "data": {
      "text/html": [
       "<div>\n",
       "<style scoped>\n",
       "    .dataframe tbody tr th:only-of-type {\n",
       "        vertical-align: middle;\n",
       "    }\n",
       "\n",
       "    .dataframe tbody tr th {\n",
       "        vertical-align: top;\n",
       "    }\n",
       "\n",
       "    .dataframe thead th {\n",
       "        text-align: right;\n",
       "    }\n",
       "</style>\n",
       "<table border=\"1\" class=\"dataframe\">\n",
       "  <thead>\n",
       "    <tr style=\"text-align: right;\">\n",
       "      <th></th>\n",
       "      <th>price</th>\n",
       "    </tr>\n",
       "    <tr>\n",
       "      <th>date</th>\n",
       "      <th></th>\n",
       "    </tr>\n",
       "  </thead>\n",
       "  <tbody>\n",
       "    <tr>\n",
       "      <th>2016-01-01</th>\n",
       "      <td>2252.600000</td>\n",
       "    </tr>\n",
       "    <tr>\n",
       "      <th>2016-01-02</th>\n",
       "      <td>2454.500000</td>\n",
       "    </tr>\n",
       "    <tr>\n",
       "      <th>2016-01-03</th>\n",
       "      <td>2708.100000</td>\n",
       "    </tr>\n",
       "    <tr>\n",
       "      <th>2016-01-04</th>\n",
       "      <td>2577.800000</td>\n",
       "    </tr>\n",
       "    <tr>\n",
       "      <th>2016-01-05</th>\n",
       "      <td>2597.750000</td>\n",
       "    </tr>\n",
       "    <tr>\n",
       "      <th>...</th>\n",
       "      <td>...</td>\n",
       "    </tr>\n",
       "    <tr>\n",
       "      <th>2024-02-23</th>\n",
       "      <td>5498.000000</td>\n",
       "    </tr>\n",
       "    <tr>\n",
       "      <th>2024-02-26</th>\n",
       "      <td>5498.000000</td>\n",
       "    </tr>\n",
       "    <tr>\n",
       "      <th>2024-02-27</th>\n",
       "      <td>5514.950195</td>\n",
       "    </tr>\n",
       "    <tr>\n",
       "      <th>2024-02-28</th>\n",
       "      <td>5514.899902</td>\n",
       "    </tr>\n",
       "    <tr>\n",
       "      <th>2024-02-29</th>\n",
       "      <td>5527.299805</td>\n",
       "    </tr>\n",
       "  </tbody>\n",
       "</table>\n",
       "<p>2717 rows × 1 columns</p>\n",
       "</div>"
      ],
      "text/plain": [
       "                  price\n",
       "date                   \n",
       "2016-01-01  2252.600000\n",
       "2016-01-02  2454.500000\n",
       "2016-01-03  2708.100000\n",
       "2016-01-04  2577.800000\n",
       "2016-01-05  2597.750000\n",
       "...                 ...\n",
       "2024-02-23  5498.000000\n",
       "2024-02-26  5498.000000\n",
       "2024-02-27  5514.950195\n",
       "2024-02-28  5514.899902\n",
       "2024-02-29  5527.299805\n",
       "\n",
       "[2717 rows x 1 columns]"
      ]
     },
     "execution_count": 28,
     "metadata": {},
     "output_type": "execute_result"
    }
   ],
   "source": [
    "df"
   ]
  },
  {
   "cell_type": "markdown",
   "metadata": {},
   "source": [
    "ARIMA(AutoRegressive Integrated Moving Average)"
   ]
  },
  {
   "cell_type": "code",
   "execution_count": 29,
   "metadata": {},
   "outputs": [],
   "source": [
    "from statsmodels.tsa.arima_model import ARIMA\n",
    "from statsmodels.tsa.arima.model import ARIMA\n"
   ]
  },
  {
   "cell_type": "markdown",
   "metadata": {},
   "source": [
    "order=(p,d,q)"
   ]
  },
  {
   "cell_type": "code",
   "execution_count": 30,
   "metadata": {},
   "outputs": [],
   "source": [
    "# model_ARIMA=ARIMA(df_diff,order=(10,1,0))"
   ]
  },
  {
   "cell_type": "code",
   "execution_count": 31,
   "metadata": {},
   "outputs": [],
   "source": [
    "# model_Arima_fit=model_ARIMA.fit()"
   ]
  },
  {
   "cell_type": "code",
   "execution_count": 32,
   "metadata": {},
   "outputs": [],
   "source": [
    "# model_Arima_fit.summary()"
   ]
  },
  {
   "cell_type": "markdown",
   "metadata": {},
   "source": [
    "Prediction"
   ]
  },
  {
   "cell_type": "code",
   "execution_count": 33,
   "metadata": {},
   "outputs": [],
   "source": [
    "# ##Prediction\n",
    "# pred_start_date=df.index[0]\n",
    "# pred_end_date=df.index[-1]\n",
    "# # print(pred_start_date)\n",
    "# # print(pred_end_date)"
   ]
  },
  {
   "cell_type": "code",
   "execution_count": 34,
   "metadata": {},
   "outputs": [],
   "source": [
    "# pred=model_Arima_fit.predict(start=pred_start_date,end=pred_end_date)\n",
    "# residuals=df_diff-pred"
   ]
  },
  {
   "cell_type": "code",
   "execution_count": 35,
   "metadata": {},
   "outputs": [],
   "source": [
    "# pred"
   ]
  },
  {
   "cell_type": "code",
   "execution_count": 36,
   "metadata": {},
   "outputs": [],
   "source": [
    "# pred"
   ]
  },
  {
   "cell_type": "code",
   "execution_count": 37,
   "metadata": {},
   "outputs": [],
   "source": [
    "# model_Arima_fit.resid.plot(kind='kde')"
   ]
  },
  {
   "cell_type": "code",
   "execution_count": 38,
   "metadata": {},
   "outputs": [],
   "source": [
    "from pmdarima import auto_arima\n"
   ]
  },
  {
   "cell_type": "code",
   "execution_count": 39,
   "metadata": {},
   "outputs": [
    {
     "name": "stdout",
     "output_type": "stream",
     "text": [
      "Performing stepwise search to minimize aic\n",
      " ARIMA(2,1,2)(0,0,0)[0] intercept   : AIC=32705.088, Time=2.14 sec\n",
      " ARIMA(0,1,0)(0,0,0)[0] intercept   : AIC=32957.173, Time=0.06 sec\n",
      " ARIMA(1,1,0)(0,0,0)[0] intercept   : AIC=32958.260, Time=0.10 sec\n",
      " ARIMA(0,1,1)(0,0,0)[0] intercept   : AIC=32957.852, Time=0.41 sec\n",
      " ARIMA(0,1,0)(0,0,0)[0]             : AIC=32955.536, Time=0.03 sec\n",
      " ARIMA(1,1,2)(0,0,0)[0] intercept   : AIC=32715.608, Time=1.83 sec\n",
      " ARIMA(2,1,1)(0,0,0)[0] intercept   : AIC=32719.372, Time=1.49 sec\n",
      " ARIMA(3,1,2)(0,0,0)[0] intercept   : AIC=32717.621, Time=2.63 sec\n",
      " ARIMA(2,1,3)(0,0,0)[0] intercept   : AIC=32707.001, Time=3.33 sec\n",
      " ARIMA(1,1,1)(0,0,0)[0] intercept   : AIC=32743.487, Time=1.05 sec\n",
      " ARIMA(1,1,3)(0,0,0)[0] intercept   : AIC=32711.505, Time=2.49 sec\n",
      " ARIMA(3,1,1)(0,0,0)[0] intercept   : AIC=32716.176, Time=3.10 sec\n",
      " ARIMA(3,1,3)(0,0,0)[0] intercept   : AIC=32693.210, Time=4.76 sec\n",
      " ARIMA(4,1,3)(0,0,0)[0] intercept   : AIC=32670.239, Time=4.26 sec\n",
      " ARIMA(4,1,2)(0,0,0)[0] intercept   : AIC=32681.902, Time=5.24 sec\n",
      " ARIMA(5,1,3)(0,0,0)[0] intercept   : AIC=32669.391, Time=6.85 sec\n",
      " ARIMA(5,1,2)(0,0,0)[0] intercept   : AIC=32698.664, Time=5.16 sec\n",
      " ARIMA(5,1,4)(0,0,0)[0] intercept   : AIC=32675.696, Time=7.24 sec\n",
      " ARIMA(4,1,4)(0,0,0)[0] intercept   : AIC=32649.344, Time=6.52 sec\n",
      " ARIMA(3,1,4)(0,0,0)[0] intercept   : AIC=32666.987, Time=6.04 sec\n",
      " ARIMA(4,1,5)(0,0,0)[0] intercept   : AIC=inf, Time=7.69 sec\n",
      " ARIMA(3,1,5)(0,0,0)[0] intercept   : AIC=32667.985, Time=7.32 sec\n",
      " ARIMA(5,1,5)(0,0,0)[0] intercept   : AIC=32617.512, Time=7.83 sec\n",
      " ARIMA(5,1,5)(0,0,0)[0]             : AIC=inf, Time=5.16 sec\n",
      "\n",
      "Best model:  ARIMA(5,1,5)(0,0,0)[0] intercept\n",
      "Total fit time: 92.769 seconds\n"
     ]
    }
   ],
   "source": [
    "stepwise_fit=auto_arima(df['price'],trace=True,suppress_warnings=True)"
   ]
  },
  {
   "cell_type": "code",
   "execution_count": 40,
   "metadata": {},
   "outputs": [
    {
     "data": {
      "text/html": [
       "<table class=\"simpletable\">\n",
       "<caption>SARIMAX Results</caption>\n",
       "<tr>\n",
       "  <th>Dep. Variable:</th>           <td>y</td>        <th>  No. Observations:  </th>    <td>2717</td>   \n",
       "</tr>\n",
       "<tr>\n",
       "  <th>Model:</th>           <td>SARIMAX(5, 1, 5)</td> <th>  Log Likelihood     </th> <td>-16296.756</td>\n",
       "</tr>\n",
       "<tr>\n",
       "  <th>Date:</th>            <td>Wed, 03 Jul 2024</td> <th>  AIC                </th>  <td>32617.512</td>\n",
       "</tr>\n",
       "<tr>\n",
       "  <th>Time:</th>                <td>14:28:13</td>     <th>  BIC                </th>  <td>32688.394</td>\n",
       "</tr>\n",
       "<tr>\n",
       "  <th>Sample:</th>                  <td>0</td>        <th>  HQIC               </th>  <td>32643.137</td>\n",
       "</tr>\n",
       "<tr>\n",
       "  <th></th>                      <td> - 2717</td>     <th>                     </th>      <td> </td>    \n",
       "</tr>\n",
       "<tr>\n",
       "  <th>Covariance Type:</th>        <td>opg</td>       <th>                     </th>      <td> </td>    \n",
       "</tr>\n",
       "</table>\n",
       "<table class=\"simpletable\">\n",
       "<tr>\n",
       "      <td></td>         <th>coef</th>     <th>std err</th>      <th>z</th>      <th>P>|z|</th>  <th>[0.025</th>    <th>0.975]</th>  \n",
       "</tr>\n",
       "<tr>\n",
       "  <th>intercept</th> <td>    1.2968</td> <td>    0.438</td> <td>    2.960</td> <td> 0.003</td> <td>    0.438</td> <td>    2.155</td>\n",
       "</tr>\n",
       "<tr>\n",
       "  <th>ar.L1</th>     <td>   -0.4727</td> <td>    0.018</td> <td>  -26.747</td> <td> 0.000</td> <td>   -0.507</td> <td>   -0.438</td>\n",
       "</tr>\n",
       "<tr>\n",
       "  <th>ar.L2</th>     <td>   -0.5111</td> <td>    0.020</td> <td>  -25.944</td> <td> 0.000</td> <td>   -0.550</td> <td>   -0.472</td>\n",
       "</tr>\n",
       "<tr>\n",
       "  <th>ar.L3</th>     <td>   -0.0121</td> <td>    0.025</td> <td>   -0.489</td> <td> 0.625</td> <td>   -0.061</td> <td>    0.036</td>\n",
       "</tr>\n",
       "<tr>\n",
       "  <th>ar.L4</th>     <td>    0.0807</td> <td>    0.019</td> <td>    4.178</td> <td> 0.000</td> <td>    0.043</td> <td>    0.119</td>\n",
       "</tr>\n",
       "<tr>\n",
       "  <th>ar.L5</th>     <td>    0.7869</td> <td>    0.015</td> <td>   51.731</td> <td> 0.000</td> <td>    0.757</td> <td>    0.817</td>\n",
       "</tr>\n",
       "<tr>\n",
       "  <th>ma.L1</th>     <td>    0.3434</td> <td>    0.015</td> <td>   23.553</td> <td> 0.000</td> <td>    0.315</td> <td>    0.372</td>\n",
       "</tr>\n",
       "<tr>\n",
       "  <th>ma.L2</th>     <td>    0.2710</td> <td>    0.015</td> <td>   18.512</td> <td> 0.000</td> <td>    0.242</td> <td>    0.300</td>\n",
       "</tr>\n",
       "<tr>\n",
       "  <th>ma.L3</th>     <td>   -0.2208</td> <td>    0.015</td> <td>  -14.479</td> <td> 0.000</td> <td>   -0.251</td> <td>   -0.191</td>\n",
       "</tr>\n",
       "<tr>\n",
       "  <th>ma.L4</th>     <td>   -0.3047</td> <td>    0.013</td> <td>  -22.728</td> <td> 0.000</td> <td>   -0.331</td> <td>   -0.278</td>\n",
       "</tr>\n",
       "<tr>\n",
       "  <th>ma.L5</th>     <td>   -0.9075</td> <td>    0.011</td> <td>  -79.318</td> <td> 0.000</td> <td>   -0.930</td> <td>   -0.885</td>\n",
       "</tr>\n",
       "<tr>\n",
       "  <th>sigma2</th>    <td> 1.002e+04</td> <td>  129.005</td> <td>   77.707</td> <td> 0.000</td> <td> 9771.712</td> <td> 1.03e+04</td>\n",
       "</tr>\n",
       "</table>\n",
       "<table class=\"simpletable\">\n",
       "<tr>\n",
       "  <th>Ljung-Box (L1) (Q):</th>     <td>6.14</td> <th>  Jarque-Bera (JB):  </th> <td>59691.73</td>\n",
       "</tr>\n",
       "<tr>\n",
       "  <th>Prob(Q):</th>                <td>0.01</td> <th>  Prob(JB):          </th>   <td>0.00</td>  \n",
       "</tr>\n",
       "<tr>\n",
       "  <th>Heteroskedasticity (H):</th> <td>1.17</td> <th>  Skew:              </th>   <td>-1.49</td> \n",
       "</tr>\n",
       "<tr>\n",
       "  <th>Prob(H) (two-sided):</th>    <td>0.02</td> <th>  Kurtosis:          </th>   <td>25.77</td> \n",
       "</tr>\n",
       "</table><br/><br/>Warnings:<br/>[1] Covariance matrix calculated using the outer product of gradients (complex-step)."
      ],
      "text/latex": [
       "\\begin{center}\n",
       "\\begin{tabular}{lclc}\n",
       "\\toprule\n",
       "\\textbf{Dep. Variable:}          &        y         & \\textbf{  No. Observations:  } &    2717     \\\\\n",
       "\\textbf{Model:}                  & SARIMAX(5, 1, 5) & \\textbf{  Log Likelihood     } & -16296.756  \\\\\n",
       "\\textbf{Date:}                   & Wed, 03 Jul 2024 & \\textbf{  AIC                } & 32617.512   \\\\\n",
       "\\textbf{Time:}                   &     14:28:13     & \\textbf{  BIC                } & 32688.394   \\\\\n",
       "\\textbf{Sample:}                 &        0         & \\textbf{  HQIC               } & 32643.137   \\\\\n",
       "\\textbf{}                        &      - 2717      & \\textbf{                     } &             \\\\\n",
       "\\textbf{Covariance Type:}        &       opg        & \\textbf{                     } &             \\\\\n",
       "\\bottomrule\n",
       "\\end{tabular}\n",
       "\\begin{tabular}{lcccccc}\n",
       "                   & \\textbf{coef} & \\textbf{std err} & \\textbf{z} & \\textbf{P$> |$z$|$} & \\textbf{[0.025} & \\textbf{0.975]}  \\\\\n",
       "\\midrule\n",
       "\\textbf{intercept} &       1.2968  &        0.438     &     2.960  &         0.003        &        0.438    &        2.155     \\\\\n",
       "\\textbf{ar.L1}     &      -0.4727  &        0.018     &   -26.747  &         0.000        &       -0.507    &       -0.438     \\\\\n",
       "\\textbf{ar.L2}     &      -0.5111  &        0.020     &   -25.944  &         0.000        &       -0.550    &       -0.472     \\\\\n",
       "\\textbf{ar.L3}     &      -0.0121  &        0.025     &    -0.489  &         0.625        &       -0.061    &        0.036     \\\\\n",
       "\\textbf{ar.L4}     &       0.0807  &        0.019     &     4.178  &         0.000        &        0.043    &        0.119     \\\\\n",
       "\\textbf{ar.L5}     &       0.7869  &        0.015     &    51.731  &         0.000        &        0.757    &        0.817     \\\\\n",
       "\\textbf{ma.L1}     &       0.3434  &        0.015     &    23.553  &         0.000        &        0.315    &        0.372     \\\\\n",
       "\\textbf{ma.L2}     &       0.2710  &        0.015     &    18.512  &         0.000        &        0.242    &        0.300     \\\\\n",
       "\\textbf{ma.L3}     &      -0.2208  &        0.015     &   -14.479  &         0.000        &       -0.251    &       -0.191     \\\\\n",
       "\\textbf{ma.L4}     &      -0.3047  &        0.013     &   -22.728  &         0.000        &       -0.331    &       -0.278     \\\\\n",
       "\\textbf{ma.L5}     &      -0.9075  &        0.011     &   -79.318  &         0.000        &       -0.930    &       -0.885     \\\\\n",
       "\\textbf{sigma2}    &    1.002e+04  &      129.005     &    77.707  &         0.000        &     9771.712    &     1.03e+04     \\\\\n",
       "\\bottomrule\n",
       "\\end{tabular}\n",
       "\\begin{tabular}{lclc}\n",
       "\\textbf{Ljung-Box (L1) (Q):}     & 6.14 & \\textbf{  Jarque-Bera (JB):  } & 59691.73  \\\\\n",
       "\\textbf{Prob(Q):}                & 0.01 & \\textbf{  Prob(JB):          } &   0.00    \\\\\n",
       "\\textbf{Heteroskedasticity (H):} & 1.17 & \\textbf{  Skew:              } &  -1.49    \\\\\n",
       "\\textbf{Prob(H) (two-sided):}    & 0.02 & \\textbf{  Kurtosis:          } &  25.77    \\\\\n",
       "\\bottomrule\n",
       "\\end{tabular}\n",
       "%\\caption{SARIMAX Results}\n",
       "\\end{center}\n",
       "\n",
       "Warnings: \\newline\n",
       " [1] Covariance matrix calculated using the outer product of gradients (complex-step)."
      ],
      "text/plain": [
       "<class 'statsmodels.iolib.summary.Summary'>\n",
       "\"\"\"\n",
       "                               SARIMAX Results                                \n",
       "==============================================================================\n",
       "Dep. Variable:                      y   No. Observations:                 2717\n",
       "Model:               SARIMAX(5, 1, 5)   Log Likelihood              -16296.756\n",
       "Date:                Wed, 03 Jul 2024   AIC                          32617.512\n",
       "Time:                        14:28:13   BIC                          32688.394\n",
       "Sample:                             0   HQIC                         32643.137\n",
       "                               - 2717                                         \n",
       "Covariance Type:                  opg                                         \n",
       "==============================================================================\n",
       "                 coef    std err          z      P>|z|      [0.025      0.975]\n",
       "------------------------------------------------------------------------------\n",
       "intercept      1.2968      0.438      2.960      0.003       0.438       2.155\n",
       "ar.L1         -0.4727      0.018    -26.747      0.000      -0.507      -0.438\n",
       "ar.L2         -0.5111      0.020    -25.944      0.000      -0.550      -0.472\n",
       "ar.L3         -0.0121      0.025     -0.489      0.625      -0.061       0.036\n",
       "ar.L4          0.0807      0.019      4.178      0.000       0.043       0.119\n",
       "ar.L5          0.7869      0.015     51.731      0.000       0.757       0.817\n",
       "ma.L1          0.3434      0.015     23.553      0.000       0.315       0.372\n",
       "ma.L2          0.2710      0.015     18.512      0.000       0.242       0.300\n",
       "ma.L3         -0.2208      0.015    -14.479      0.000      -0.251      -0.191\n",
       "ma.L4         -0.3047      0.013    -22.728      0.000      -0.331      -0.278\n",
       "ma.L5         -0.9075      0.011    -79.318      0.000      -0.930      -0.885\n",
       "sigma2      1.002e+04    129.005     77.707      0.000    9771.712    1.03e+04\n",
       "===================================================================================\n",
       "Ljung-Box (L1) (Q):                   6.14   Jarque-Bera (JB):             59691.73\n",
       "Prob(Q):                              0.01   Prob(JB):                         0.00\n",
       "Heteroskedasticity (H):               1.17   Skew:                            -1.49\n",
       "Prob(H) (two-sided):                  0.02   Kurtosis:                        25.77\n",
       "===================================================================================\n",
       "\n",
       "Warnings:\n",
       "[1] Covariance matrix calculated using the outer product of gradients (complex-step).\n",
       "\"\"\""
      ]
     },
     "execution_count": 40,
     "metadata": {},
     "output_type": "execute_result"
    }
   ],
   "source": [
    "stepwise_fit.summary()"
   ]
  },
  {
   "cell_type": "code",
   "execution_count": 41,
   "metadata": {},
   "outputs": [],
   "source": [
    "from statsmodels.tsa.arima_model import ARIMA\n",
    "from statsmodels.tsa.arima.model import ARIMA"
   ]
  },
  {
   "cell_type": "code",
   "execution_count": 42,
   "metadata": {},
   "outputs": [
    {
     "name": "stdout",
     "output_type": "stream",
     "text": [
      "(2717, 1)\n",
      "(2687, 1) (30, 1)\n"
     ]
    }
   ],
   "source": [
    "print(df.shape)\n",
    "train=df.iloc[:-30]\n",
    "test=df.iloc[-30:]\n",
    "print(train.shape,test.shape)"
   ]
  },
  {
   "cell_type": "code",
   "execution_count": 43,
   "metadata": {},
   "outputs": [
    {
     "name": "stderr",
     "output_type": "stream",
     "text": [
      "c:\\Users\\Shree\\AppData\\Local\\Programs\\Python\\Python310\\lib\\site-packages\\statsmodels\\tsa\\base\\tsa_model.py:473: ValueWarning: A date index has been provided, but it has no associated frequency information and so will be ignored when e.g. forecasting.\n",
      "  self._init_dates(dates, freq)\n",
      "c:\\Users\\Shree\\AppData\\Local\\Programs\\Python\\Python310\\lib\\site-packages\\statsmodels\\tsa\\base\\tsa_model.py:473: ValueWarning: A date index has been provided, but it has no associated frequency information and so will be ignored when e.g. forecasting.\n",
      "  self._init_dates(dates, freq)\n",
      "c:\\Users\\Shree\\AppData\\Local\\Programs\\Python\\Python310\\lib\\site-packages\\statsmodels\\tsa\\base\\tsa_model.py:473: ValueWarning: A date index has been provided, but it has no associated frequency information and so will be ignored when e.g. forecasting.\n",
      "  self._init_dates(dates, freq)\n",
      "c:\\Users\\Shree\\AppData\\Local\\Programs\\Python\\Python310\\lib\\site-packages\\statsmodels\\tsa\\statespace\\sarimax.py:978: UserWarning: Non-invertible starting MA parameters found. Using zeros as starting parameters.\n",
      "  warn('Non-invertible starting MA parameters found.'\n",
      "c:\\Users\\Shree\\AppData\\Local\\Programs\\Python\\Python310\\lib\\site-packages\\statsmodels\\base\\model.py:607: ConvergenceWarning: Maximum Likelihood optimization failed to converge. Check mle_retvals\n",
      "  warnings.warn(\"Maximum Likelihood optimization failed to \"\n"
     ]
    }
   ],
   "source": [
    "model=ARIMA(train['price'],order=(5,1,5))\n",
    "model=model.fit()"
   ]
  },
  {
   "cell_type": "code",
   "execution_count": 44,
   "metadata": {},
   "outputs": [
    {
     "data": {
      "text/html": [
       "<table class=\"simpletable\">\n",
       "<caption>SARIMAX Results</caption>\n",
       "<tr>\n",
       "  <th>Dep. Variable:</th>         <td>price</td>      <th>  No. Observations:  </th>    <td>2687</td>   \n",
       "</tr>\n",
       "<tr>\n",
       "  <th>Model:</th>            <td>ARIMA(5, 1, 5)</td>  <th>  Log Likelihood     </th> <td>-16140.026</td>\n",
       "</tr>\n",
       "<tr>\n",
       "  <th>Date:</th>            <td>Wed, 03 Jul 2024</td> <th>  AIC                </th>  <td>32302.052</td>\n",
       "</tr>\n",
       "<tr>\n",
       "  <th>Time:</th>                <td>14:28:18</td>     <th>  BIC                </th>  <td>32366.906</td>\n",
       "</tr>\n",
       "<tr>\n",
       "  <th>Sample:</th>                  <td>0</td>        <th>  HQIC               </th>  <td>32325.511</td>\n",
       "</tr>\n",
       "<tr>\n",
       "  <th></th>                      <td> - 2687</td>     <th>                     </th>      <td> </td>    \n",
       "</tr>\n",
       "<tr>\n",
       "  <th>Covariance Type:</th>        <td>opg</td>       <th>                     </th>      <td> </td>    \n",
       "</tr>\n",
       "</table>\n",
       "<table class=\"simpletable\">\n",
       "<tr>\n",
       "     <td></td>       <th>coef</th>     <th>std err</th>      <th>z</th>      <th>P>|z|</th>  <th>[0.025</th>    <th>0.975]</th>  \n",
       "</tr>\n",
       "<tr>\n",
       "  <th>ar.L1</th>  <td>   -0.4854</td> <td>    0.019</td> <td>  -26.117</td> <td> 0.000</td> <td>   -0.522</td> <td>   -0.449</td>\n",
       "</tr>\n",
       "<tr>\n",
       "  <th>ar.L2</th>  <td>   -0.4805</td> <td>    0.024</td> <td>  -19.681</td> <td> 0.000</td> <td>   -0.528</td> <td>   -0.433</td>\n",
       "</tr>\n",
       "<tr>\n",
       "  <th>ar.L3</th>  <td>    0.0159</td> <td>    0.026</td> <td>    0.614</td> <td> 0.539</td> <td>   -0.035</td> <td>    0.067</td>\n",
       "</tr>\n",
       "<tr>\n",
       "  <th>ar.L4</th>  <td>    0.0722</td> <td>    0.020</td> <td>    3.698</td> <td> 0.000</td> <td>    0.034</td> <td>    0.111</td>\n",
       "</tr>\n",
       "<tr>\n",
       "  <th>ar.L5</th>  <td>    0.7881</td> <td>    0.015</td> <td>   51.999</td> <td> 0.000</td> <td>    0.758</td> <td>    0.818</td>\n",
       "</tr>\n",
       "<tr>\n",
       "  <th>ma.L1</th>  <td>    0.3559</td> <td>    0.019</td> <td>   18.393</td> <td> 0.000</td> <td>    0.318</td> <td>    0.394</td>\n",
       "</tr>\n",
       "<tr>\n",
       "  <th>ma.L2</th>  <td>    0.2431</td> <td>    0.023</td> <td>   10.799</td> <td> 0.000</td> <td>    0.199</td> <td>    0.287</td>\n",
       "</tr>\n",
       "<tr>\n",
       "  <th>ma.L3</th>  <td>   -0.2576</td> <td>    0.021</td> <td>  -12.511</td> <td> 0.000</td> <td>   -0.298</td> <td>   -0.217</td>\n",
       "</tr>\n",
       "<tr>\n",
       "  <th>ma.L4</th>  <td>   -0.2652</td> <td>    0.021</td> <td>  -12.591</td> <td> 0.000</td> <td>   -0.306</td> <td>   -0.224</td>\n",
       "</tr>\n",
       "<tr>\n",
       "  <th>ma.L5</th>  <td>   -0.8941</td> <td>    0.017</td> <td>  -52.023</td> <td> 0.000</td> <td>   -0.928</td> <td>   -0.860</td>\n",
       "</tr>\n",
       "<tr>\n",
       "  <th>sigma2</th> <td> 1.006e+04</td> <td>  127.365</td> <td>   78.950</td> <td> 0.000</td> <td> 9805.903</td> <td> 1.03e+04</td>\n",
       "</tr>\n",
       "</table>\n",
       "<table class=\"simpletable\">\n",
       "<tr>\n",
       "  <th>Ljung-Box (L1) (Q):</th>     <td>7.33</td> <th>  Jarque-Bera (JB):  </th> <td>64962.23</td>\n",
       "</tr>\n",
       "<tr>\n",
       "  <th>Prob(Q):</th>                <td>0.01</td> <th>  Prob(JB):          </th>   <td>0.00</td>  \n",
       "</tr>\n",
       "<tr>\n",
       "  <th>Heteroskedasticity (H):</th> <td>1.31</td> <th>  Skew:              </th>   <td>-1.56</td> \n",
       "</tr>\n",
       "<tr>\n",
       "  <th>Prob(H) (two-sided):</th>    <td>0.00</td> <th>  Kurtosis:          </th>   <td>26.89</td> \n",
       "</tr>\n",
       "</table><br/><br/>Warnings:<br/>[1] Covariance matrix calculated using the outer product of gradients (complex-step)."
      ],
      "text/latex": [
       "\\begin{center}\n",
       "\\begin{tabular}{lclc}\n",
       "\\toprule\n",
       "\\textbf{Dep. Variable:}          &      price       & \\textbf{  No. Observations:  } &    2687     \\\\\n",
       "\\textbf{Model:}                  &  ARIMA(5, 1, 5)  & \\textbf{  Log Likelihood     } & -16140.026  \\\\\n",
       "\\textbf{Date:}                   & Wed, 03 Jul 2024 & \\textbf{  AIC                } & 32302.052   \\\\\n",
       "\\textbf{Time:}                   &     14:28:18     & \\textbf{  BIC                } & 32366.906   \\\\\n",
       "\\textbf{Sample:}                 &        0         & \\textbf{  HQIC               } & 32325.511   \\\\\n",
       "\\textbf{}                        &      - 2687      & \\textbf{                     } &             \\\\\n",
       "\\textbf{Covariance Type:}        &       opg        & \\textbf{                     } &             \\\\\n",
       "\\bottomrule\n",
       "\\end{tabular}\n",
       "\\begin{tabular}{lcccccc}\n",
       "                & \\textbf{coef} & \\textbf{std err} & \\textbf{z} & \\textbf{P$> |$z$|$} & \\textbf{[0.025} & \\textbf{0.975]}  \\\\\n",
       "\\midrule\n",
       "\\textbf{ar.L1}  &      -0.4854  &        0.019     &   -26.117  &         0.000        &       -0.522    &       -0.449     \\\\\n",
       "\\textbf{ar.L2}  &      -0.4805  &        0.024     &   -19.681  &         0.000        &       -0.528    &       -0.433     \\\\\n",
       "\\textbf{ar.L3}  &       0.0159  &        0.026     &     0.614  &         0.539        &       -0.035    &        0.067     \\\\\n",
       "\\textbf{ar.L4}  &       0.0722  &        0.020     &     3.698  &         0.000        &        0.034    &        0.111     \\\\\n",
       "\\textbf{ar.L5}  &       0.7881  &        0.015     &    51.999  &         0.000        &        0.758    &        0.818     \\\\\n",
       "\\textbf{ma.L1}  &       0.3559  &        0.019     &    18.393  &         0.000        &        0.318    &        0.394     \\\\\n",
       "\\textbf{ma.L2}  &       0.2431  &        0.023     &    10.799  &         0.000        &        0.199    &        0.287     \\\\\n",
       "\\textbf{ma.L3}  &      -0.2576  &        0.021     &   -12.511  &         0.000        &       -0.298    &       -0.217     \\\\\n",
       "\\textbf{ma.L4}  &      -0.2652  &        0.021     &   -12.591  &         0.000        &       -0.306    &       -0.224     \\\\\n",
       "\\textbf{ma.L5}  &      -0.8941  &        0.017     &   -52.023  &         0.000        &       -0.928    &       -0.860     \\\\\n",
       "\\textbf{sigma2} &    1.006e+04  &      127.365     &    78.950  &         0.000        &     9805.903    &     1.03e+04     \\\\\n",
       "\\bottomrule\n",
       "\\end{tabular}\n",
       "\\begin{tabular}{lclc}\n",
       "\\textbf{Ljung-Box (L1) (Q):}     & 7.33 & \\textbf{  Jarque-Bera (JB):  } & 64962.23  \\\\\n",
       "\\textbf{Prob(Q):}                & 0.01 & \\textbf{  Prob(JB):          } &   0.00    \\\\\n",
       "\\textbf{Heteroskedasticity (H):} & 1.31 & \\textbf{  Skew:              } &  -1.56    \\\\\n",
       "\\textbf{Prob(H) (two-sided):}    & 0.00 & \\textbf{  Kurtosis:          } &  26.89    \\\\\n",
       "\\bottomrule\n",
       "\\end{tabular}\n",
       "%\\caption{SARIMAX Results}\n",
       "\\end{center}\n",
       "\n",
       "Warnings: \\newline\n",
       " [1] Covariance matrix calculated using the outer product of gradients (complex-step)."
      ],
      "text/plain": [
       "<class 'statsmodels.iolib.summary.Summary'>\n",
       "\"\"\"\n",
       "                               SARIMAX Results                                \n",
       "==============================================================================\n",
       "Dep. Variable:                  price   No. Observations:                 2687\n",
       "Model:                 ARIMA(5, 1, 5)   Log Likelihood              -16140.026\n",
       "Date:                Wed, 03 Jul 2024   AIC                          32302.052\n",
       "Time:                        14:28:18   BIC                          32366.906\n",
       "Sample:                             0   HQIC                         32325.511\n",
       "                               - 2687                                         \n",
       "Covariance Type:                  opg                                         \n",
       "==============================================================================\n",
       "                 coef    std err          z      P>|z|      [0.025      0.975]\n",
       "------------------------------------------------------------------------------\n",
       "ar.L1         -0.4854      0.019    -26.117      0.000      -0.522      -0.449\n",
       "ar.L2         -0.4805      0.024    -19.681      0.000      -0.528      -0.433\n",
       "ar.L3          0.0159      0.026      0.614      0.539      -0.035       0.067\n",
       "ar.L4          0.0722      0.020      3.698      0.000       0.034       0.111\n",
       "ar.L5          0.7881      0.015     51.999      0.000       0.758       0.818\n",
       "ma.L1          0.3559      0.019     18.393      0.000       0.318       0.394\n",
       "ma.L2          0.2431      0.023     10.799      0.000       0.199       0.287\n",
       "ma.L3         -0.2576      0.021    -12.511      0.000      -0.298      -0.217\n",
       "ma.L4         -0.2652      0.021    -12.591      0.000      -0.306      -0.224\n",
       "ma.L5         -0.8941      0.017    -52.023      0.000      -0.928      -0.860\n",
       "sigma2      1.006e+04    127.365     78.950      0.000    9805.903    1.03e+04\n",
       "===================================================================================\n",
       "Ljung-Box (L1) (Q):                   7.33   Jarque-Bera (JB):             64962.23\n",
       "Prob(Q):                              0.01   Prob(JB):                         0.00\n",
       "Heteroskedasticity (H):               1.31   Skew:                            -1.56\n",
       "Prob(H) (two-sided):                  0.00   Kurtosis:                        26.89\n",
       "===================================================================================\n",
       "\n",
       "Warnings:\n",
       "[1] Covariance matrix calculated using the outer product of gradients (complex-step).\n",
       "\"\"\""
      ]
     },
     "execution_count": 44,
     "metadata": {},
     "output_type": "execute_result"
    }
   ],
   "source": [
    "model.summary()"
   ]
  },
  {
   "cell_type": "code",
   "execution_count": 45,
   "metadata": {},
   "outputs": [
    {
     "name": "stdout",
     "output_type": "stream",
     "text": [
      "date\n",
      "2024-01-17    5517.149893\n",
      "2024-01-18    5500.780541\n",
      "2024-01-19    5500.664797\n",
      "2024-01-23    5502.855448\n",
      "2024-01-24    5495.648700\n",
      "2024-01-25    5486.782691\n",
      "2024-01-29    5481.674380\n",
      "2024-01-30    5488.365873\n",
      "2024-01-31    5488.637326\n",
      "2024-02-01    5478.889362\n",
      "2024-02-02    5476.240354\n",
      "2024-02-05    5478.671447\n",
      "2024-02-06    5483.902311\n",
      "2024-02-07    5479.663115\n",
      "2024-02-08    5471.372466\n",
      "2024-02-09    5475.604252\n",
      "2024-02-12    5479.760023\n",
      "2024-02-13    5479.394115\n",
      "2024-02-14    5473.702595\n",
      "2024-02-15    5470.478812\n",
      "2024-02-16    5478.407410\n",
      "2024-02-19    5479.266319\n",
      "2024-02-20    5474.289308\n",
      "2024-02-21    5471.700042\n",
      "2024-02-22    5473.393766\n",
      "2024-02-23    5480.047064\n",
      "2024-02-26    5476.280315\n",
      "2024-02-27    5470.829453\n",
      "2024-02-28    5473.472395\n",
      "2024-02-29    5476.564063\n",
      "Name: predicted_mean, dtype: float64\n"
     ]
    },
    {
     "name": "stderr",
     "output_type": "stream",
     "text": [
      "c:\\Users\\Shree\\AppData\\Local\\Programs\\Python\\Python310\\lib\\site-packages\\statsmodels\\tsa\\base\\tsa_model.py:836: ValueWarning: No supported index is available. Prediction results will be given with an integer index beginning at `start`.\n",
      "  return get_prediction_index(\n",
      "c:\\Users\\Shree\\AppData\\Local\\Programs\\Python\\Python310\\lib\\site-packages\\statsmodels\\tsa\\base\\tsa_model.py:836: FutureWarning: No supported index is available. In the next version, calling this method in a model without a supported index will result in an exception.\n",
      "  return get_prediction_index(\n",
      "c:\\Users\\Shree\\AppData\\Local\\Programs\\Python\\Python310\\lib\\site-packages\\statsmodels\\tsa\\statespace\\representation.py:374: FutureWarning: Unknown keyword arguments: dict_keys(['type']).Passing unknown keyword arguments will raise a TypeError beginning in version 0.15.\n",
      "  warnings.warn(msg, FutureWarning)\n"
     ]
    }
   ],
   "source": [
    "#prediction for testing data\n",
    "start=len(train)\n",
    "end=len(train)+len(test)-1\n",
    "pred=model.predict(start=start,end=end,type='levels')\n",
    "pred.index=df.index[start:end+1]\n",
    "print(pred)"
   ]
  },
  {
   "cell_type": "code",
   "execution_count": 46,
   "metadata": {},
   "outputs": [
    {
     "data": {
      "text/plain": [
       "<Axes: xlabel='date'>"
      ]
     },
     "execution_count": 46,
     "metadata": {},
     "output_type": "execute_result"
    },
    {
     "data": {
      "image/png": "[encoded data removed]",
      "text/plain": [
       "<Figure size 640x480 with 1 Axes>"
      ]
     },
     "metadata": {},
     "output_type": "display_data"
    }
   ],
   "source": [
    "pred.plot(legend=True)\n",
    "test['price'].plot(legend=True)"
   ]
  },
  {
   "cell_type": "code",
   "execution_count": 47,
   "metadata": {},
   "outputs": [
    {
     "data": {
      "text/plain": [
       "<Axes: ylabel='Density'>"
      ]
     },
     "execution_count": 47,
     "metadata": {},
     "output_type": "execute_result"
    },
    {
     "data": {
      "text/plain": [
       "<Figure size 1800x700 with 0 Axes>"
      ]
     },
     "metadata": {},
     "output_type": "display_data"
    },
    {
     "data": {
      "image/png": "[encoded data removed]",
      "text/plain": [
       "<Figure size 640x480 with 1 Axes>"
      ]
     },
     "metadata": {},
     "output_type": "display_data"
    }
   ],
   "source": [
    "plt.figure(figsize=(18,7))\n",
    "from pandas import DataFrame\n",
    "residual=DataFrame(model.resid)\n",
    "# residual=model.resid\n",
    "residual.plot(kind='kde')"
   ]
  },
  {
   "cell_type": "code",
   "execution_count": 48,
   "metadata": {},
   "outputs": [
    {
     "data": {
      "text/plain": [
       "5530.578678385416"
      ]
     },
     "execution_count": 48,
     "metadata": {},
     "output_type": "execute_result"
    }
   ],
   "source": [
    "test['price'].mean()"
   ]
  },
  {
   "cell_type": "code",
   "execution_count": 49,
   "metadata": {},
   "outputs": [
    {
     "name": "stdout",
     "output_type": "stream",
     "text": [
      "82.4105058689427\n"
     ]
    }
   ],
   "source": [
    "from sklearn.metrics import mean_squared_error\n",
    "from math import sqrt\n",
    "rmse=sqrt(mean_squared_error(pred,test['price']))\n",
    "print(rmse)"
   ]
  },
  {
   "cell_type": "code",
   "execution_count": 50,
   "metadata": {},
   "outputs": [],
   "source": [
    "# model2=ARIMA(df['price'],order=(1,1,5))\n",
    "# model2=model2.fit()"
   ]
  },
  {
   "cell_type": "markdown",
   "metadata": {},
   "source": [
    "For Future dates"
   ]
  },
  {
   "cell_type": "code",
   "execution_count": 51,
   "metadata": {},
   "outputs": [
    {
     "name": "stdout",
     "output_type": "stream",
     "text": [
      "2024-02-29    5478.678284\n",
      "2024-03-01    5472.846486\n",
      "2024-03-02    5470.605488\n",
      "2024-03-03    5476.834920\n",
      "2024-03-04    5477.384649\n",
      "                 ...     \n",
      "2024-04-25    5476.937147\n",
      "2024-04-26    5475.247168\n",
      "2024-04-27    5473.400127\n",
      "2024-04-28    5474.263367\n",
      "2024-04-29    5474.600062\n",
      "Freq: D, Name: ARIMA Prediction, Length: 61, dtype: float64\n"
     ]
    },
    {
     "name": "stderr",
     "output_type": "stream",
     "text": [
      "c:\\Users\\Shree\\AppData\\Local\\Programs\\Python\\Python310\\lib\\site-packages\\statsmodels\\tsa\\base\\tsa_model.py:836: ValueWarning: No supported index is available. Prediction results will be given with an integer index beginning at `start`.\n",
      "  return get_prediction_index(\n",
      "c:\\Users\\Shree\\AppData\\Local\\Programs\\Python\\Python310\\lib\\site-packages\\statsmodels\\tsa\\base\\tsa_model.py:836: FutureWarning: No supported index is available. In the next version, calling this method in a model without a supported index will result in an exception.\n",
      "  return get_prediction_index(\n",
      "c:\\Users\\Shree\\AppData\\Local\\Programs\\Python\\Python310\\lib\\site-packages\\statsmodels\\tsa\\statespace\\representation.py:374: FutureWarning: Unknown keyword arguments: dict_keys(['typ']).Passing unknown keyword arguments will raise a TypeError beginning in version 0.15.\n",
      "  warnings.warn(msg, FutureWarning)\n"
     ]
    }
   ],
   "source": [
    "index_future_dates=pd.date_range(start='2024-02-29',end='2024-04-29')\n",
    "#print(index_future_dates)\n",
    "pred=model.predict(start=len(df),end=len(df)+60,typ='levels').rename('ARIMA Prediction')\n",
    "# print(comp_pred)\n",
    "pred.index=index_future_dates\n",
    "print(pred)"
   ]
  },
  {
   "cell_type": "code",
   "execution_count": 52,
   "metadata": {},
   "outputs": [
    {
     "data": {
      "text/plain": [
       "<Axes: >"
      ]
     },
     "execution_count": 52,
     "metadata": {},
     "output_type": "execute_result"
    },
    {
     "data": {
      "image/png": "[encoded data removed]",
      "text/plain": [
       "<Figure size 1200x600 with 1 Axes>"
      ]
     },
     "metadata": {},
     "output_type": "display_data"
    }
   ],
   "source": [
    "pred.plot(figsize=(12,6),legend=True)"
   ]
  },
  {
   "cell_type": "code",
   "execution_count": 53,
   "metadata": {},
   "outputs": [],
   "source": [
    "import pickle\n",
    "pickle.dump(model,open('final_model.pkl','wb'))"
   ]
  },
  {
   "cell_type": "code",
   "execution_count": 54,
   "metadata": {},
   "outputs": [],
   "source": [
    "pickle.dump(pred,open('final_pred.pkl','wb'))"
   ]
  },
  {
   "cell_type": "markdown",
   "metadata": {},
   "source": [
    "RNN(Recurent Neural Network)"
   ]
  },
  {
   "cell_type": "markdown",
   "metadata": {},
   "source": []
  },
  {
   "cell_type": "code",
   "execution_count": null,
   "metadata": {},
   "outputs": [],
   "source": []
  },
  {
   "cell_type": "markdown",
   "metadata": {},
   "source": [
    "SARIMAX"
   ]
  },
  {
   "cell_type": "code",
   "execution_count": 55,
   "metadata": {},
   "outputs": [],
   "source": [
    "# from statsmodels.tsa.statespace.sarimax import SARIMAX"
   ]
  },
  {
   "cell_type": "code",
   "execution_count": 56,
   "metadata": {},
   "outputs": [],
   "source": [
    "# model_sarima=SARIMAX(df_diff,order=(1,0,1),seasonal_order=(0,1,0,12))"
   ]
  },
  {
   "cell_type": "code",
   "execution_count": 57,
   "metadata": {},
   "outputs": [],
   "source": [
    "# model_sarima_fit=model_sarima.fit()"
   ]
  },
  {
   "cell_type": "code",
   "execution_count": 58,
   "metadata": {},
   "outputs": [],
   "source": [
    "# model_sarima_fit.summary()"
   ]
  },
  {
   "cell_type": "code",
   "execution_count": 59,
   "metadata": {},
   "outputs": [],
   "source": [
    "# ##Prediction\n",
    "# pred_start_date=df.index[0]\n",
    "# pred_end_date=df.index[-1]\n",
    "# print(pred_start_date)\n",
    "# # print(pred_end_date)"
   ]
  },
  {
   "cell_type": "code",
   "execution_count": 60,
   "metadata": {},
   "outputs": [],
   "source": [
    "# pred_sarima=model_sarima_fit.predict(start=pred_start_date,end=pred_end_date)\n",
    "# residuals=df_diff-pred_sarima"
   ]
  },
  {
   "cell_type": "code",
   "execution_count": 61,
   "metadata": {},
   "outputs": [],
   "source": [
    "# model_sarima_fit.resid.plot()"
   ]
  },
  {
   "cell_type": "code",
   "execution_count": 62,
   "metadata": {},
   "outputs": [],
   "source": [
    "# model_sarima_fit.resid.plot(kind='kde')"
   ]
  },
  {
   "cell_type": "markdown",
   "metadata": {},
   "source": [
    "SARIMAX"
   ]
  },
  {
   "cell_type": "markdown",
   "metadata": {},
   "source": [
    "Seasonal Auto Regressive Integrated Moving Average with eXogenous regression model"
   ]
  },
  {
   "cell_type": "markdown",
   "metadata": {},
   "source": [
    "AR Order:Lags in the auto regressive model"
   ]
  },
  {
   "cell_type": "markdown",
   "metadata": {},
   "source": [
    "MA order:moving average lags\n"
   ]
  },
  {
   "cell_type": "markdown",
   "metadata": {},
   "source": [
    "Integrated order:differencing Integration Order"
   ]
  },
  {
   "cell_type": "markdown",
   "metadata": {},
   "source": [
    "Seasonal Order:(Seasonal AR specification,seasonal Integration Order,Seasonal MA,Seasonal periodity)"
   ]
  },
  {
   "cell_type": "markdown",
   "metadata": {},
   "source": [
    "eXogenous regressor model"
   ]
  },
  {
   "cell_type": "code",
   "execution_count": 63,
   "metadata": {},
   "outputs": [],
   "source": [
    "# import statsmodels.api as sm"
   ]
  },
  {
   "cell_type": "code",
   "execution_count": 64,
   "metadata": {},
   "outputs": [],
   "source": [
    "# model_sarimax=sm.tsa.statespace.SARIMAX(train,order=(1,1,1),seasonal_order=(1,1,1,12))\n",
    "# model_sarimax_fit=model_sarimax.fit()"
   ]
  },
  {
   "cell_type": "code",
   "execution_count": 65,
   "metadata": {},
   "outputs": [],
   "source": [
    "# # prediction=model_sarimax_fit.predict(start='2024-02-29',end='2024-03-30')\n",
    "# index_future_dates_sarimax=pd.date_range(start='2024-02-29',end='2024-03-30')\n",
    "# #print(index_future_dates)\n",
    "# prediction=model_sarimax_fit.predict(start=len(df),end=len(df)+30,typ='levels').rename('SARIMAX Prediction')\n",
    "# # print(comp_pred)\n",
    "# prediction.index=index_future_dates_sarimax\n",
    "# print(prediction)"
   ]
  },
  {
   "cell_type": "code",
   "execution_count": 66,
   "metadata": {},
   "outputs": [],
   "source": [
    "# prediction = prediction[:-1]"
   ]
  },
  {
   "cell_type": "code",
   "execution_count": 67,
   "metadata": {},
   "outputs": [],
   "source": [
    "# from sklearn.metrics import mean_squared_error\n",
    "# import numpy as np\n",
    "# if len(prediction) < len(test):\n",
    "#     prediction = np.pad(prediction, (0, len(test) - len(prediction)), 'constant')\n",
    "# rmse_SARIMAX=np.sqrt(mean_squared_error(test,prediction))\n",
    "# print(rmse_SARIMAX)"
   ]
  },
  {
   "cell_type": "code",
   "execution_count": 68,
   "metadata": {},
   "outputs": [],
   "source": [
    "# predict=np.exp(prediction)\n",
    "# test_set=np.exp(test)\n",
    "# plt.plot(test_set)\n",
    "# plt.plot(predict,color='red')\n",
    "# plt.show()"
   ]
  },
  {
   "cell_type": "code",
   "execution_count": 69,
   "metadata": {},
   "outputs": [],
   "source": [
    "# prediction_series = pd.Series(prediction)\n",
    "# prediction_series.plot(legend=True,label='Prediction')\n",
    "# test['price'].plot(legend=True,label='Test Data')"
   ]
  },
  {
   "cell_type": "code",
   "execution_count": 70,
   "metadata": {},
   "outputs": [],
   "source": [
    "# plt.figure(figsize=(18,7))\n",
    "# from pandas import DataFrame\n",
    "# residualsarimax=DataFrame(model_sarimax.resid)\n",
    "# # residual=model.resid\n",
    "# residualsarimax.plot(kind='kde')"
   ]
  },
  {
   "cell_type": "markdown",
   "metadata": {},
   "source": [
    "Pickling the model file for deployement"
   ]
  },
  {
   "cell_type": "code",
   "execution_count": 71,
   "metadata": {},
   "outputs": [],
   "source": [
    "# import pickle"
   ]
  },
  {
   "cell_type": "markdown",
   "metadata": {},
   "source": [
    "Write Byte Mode"
   ]
  },
  {
   "cell_type": "code",
   "execution_count": 72,
   "metadata": {},
   "outputs": [],
   "source": [
    "# pickle.dump(pred,open('pred.pkl','wb'))"
   ]
  },
  {
   "cell_type": "markdown",
   "metadata": {},
   "source": [
    "Read Byte Mode"
   ]
  },
  {
   "cell_type": "code",
   "execution_count": 73,
   "metadata": {},
   "outputs": [],
   "source": [
    "# pickled_model=pickle.load(open('pred.pkl','rb'))"
   ]
  },
  {
   "cell_type": "code",
   "execution_count": 74,
   "metadata": {},
   "outputs": [],
   "source": [
    "# pickled_model.predict(index_future_dates)"
   ]
  },
  {
   "cell_type": "code",
   "execution_count": null,
   "metadata": {},
   "outputs": [],
   "source": []
  }
 ],
 "metadata": {
  "kernelspec": {
   "display_name": "Python 3",
   "language": "python",
   "name": "python3"
  },
  "language_info": {
   "codemirror_mode": {
    "name": "ipython",
    "version": 3
   },
   "file_extension": ".py",
   "mimetype": "text/x-python",
   "name": "python",
   "nbconvert_exporter": "python",
   "pygments_lexer": "ipython3",
   "version": "3.10.1"
  }
 },
 "nbformat": 4,
 "nbformat_minor": 2
}
